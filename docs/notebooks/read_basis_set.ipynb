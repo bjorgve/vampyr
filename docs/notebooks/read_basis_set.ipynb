{
 "cells": [
  {
   "cell_type": "code",
   "execution_count": 29,
   "metadata": {},
   "outputs": [],
   "source": [
    "import basis_set_exchange as bse\n",
    "import json\n",
    "# Obtain the STO-3G basis set in nwchem format (as a string) for hydrogen and carbon\n",
    "basis = json.loads(bse.get_basis('3-21G', elements=[10], fmt='json', header=False, uncontract_general=True))"
   ]
  },
  {
   "cell_type": "code",
   "execution_count": 31,
   "metadata": {},
   "outputs": [],
   "source": [
    "neon_basis = basis[\"elements\"][\"10\"]"
   ]
  },
  {
   "cell_type": "code",
   "execution_count": 34,
   "metadata": {},
   "outputs": [
    {
     "name": "stdout",
     "output_type": "stream",
     "text": [
      "{'function_type': 'gto', 'region': 'valence', 'angular_momentum': [0], 'exponents': ['0.5157240000E+03', '0.7765380000E+02', '0.1681360000E+02'], 'coefficients': [['0.5814303044E-01', '0.3479511822E+00', '0.7107143721E+00']]}\n",
      "{'function_type': 'gto', 'region': 'valence', 'angular_momentum': [0, 1], 'exponents': ['0.1248300000E+02', '0.2664510000E+01'], 'coefficients': [['-0.4099223208E+00', '0.1224310958E+01'], ['0.2474599836E+00', '0.8517429435E+00']]}\n",
      "{'function_type': 'gto', 'region': 'valence', 'angular_momentum': [0, 1], 'exponents': ['0.6062500000E+00'], 'coefficients': [['0.1000000000E+01'], ['0.1000000000E+01']]}\n"
     ]
    }
   ],
   "source": [
    "for a in neon_basis[\"electron_shells\"]:\n",
    "    print(a)"
   ]
  },
  {
   "cell_type": "code",
   "execution_count": 60,
   "metadata": {},
   "outputs": [
    {
     "data": {
      "text/plain": [
       "{'function_type': 'gto',\n",
       " 'region': 'valence',\n",
       " 'angular_momentum': [0, 1],\n",
       " 'exponents': ['0.1248300000E+02', '0.2664510000E+01'],\n",
       " 'coefficients': [['-0.4099223208E+00', '0.1224310958E+01'],\n",
       "  ['0.2474599836E+00', '0.8517429435E+00']]}"
      ]
     },
     "execution_count": 60,
     "metadata": {},
     "output_type": "execute_result"
    }
   ],
   "source": [
    "neon_basis[\"electron_shells\"][1]"
   ]
  },
  {
   "cell_type": "code",
   "execution_count": 48,
   "metadata": {},
   "outputs": [],
   "source": [
    "from vampyr import vampyr3d as vp\n",
    "\n",
    "g_exp = vp.GaussExp() # Create a GaussExp object\n",
    "\n",
    "angular_momentum = neon_basis[\"electron_shells\"][0][\"angular_momentum\"]\n",
    "angular_momentum = [int(a) for a in angular_momentum]\n",
    "exponents = neon_basis[\"electron_shells\"][0][\"exponents\"]\n",
    "exponents = [float(a) for a in exponents]\n",
    "coefficients = neon_basis[\"electron_shells\"][0][\"coefficients\"]\n",
    "coefficients = [[float(a) for a in orb_type] for orb_type in coefficients]\n",
    "\n",
    "s_poly = [0, 0, 0]\n",
    "p_poly = [[1, 0, 0], [0, 1, 0], [0, 0, 1]]\n",
    "d_poly = [[2, 0, 0], [0, 2, 0], [0, 0, 2], [1, 1, 0], [1, 0, 1], [0, 1, 1]]\n"
   ]
  },
  {
   "cell_type": "code",
   "execution_count": 53,
   "metadata": {},
   "outputs": [],
   "source": [
    "inputs = []\n",
    "for i in range(len(exponents)):\n",
    "    inputs.append([exponents[i], coefficients[0][i], [0, 0, 0], s_poly])\n",
    "\n",
    "g_exp = vp.GaussExp()\n",
    "for inp in inputs:\n",
    "    g_exp.append(vp.GaussFunc(*inp))"
   ]
  },
  {
   "cell_type": "code",
   "execution_count": 120,
   "metadata": {},
   "outputs": [],
   "source": [
    "# Function that makes list of GuassFunc objects\n",
    "# from basis set exchange data s-orbitals\n",
    "\n",
    "def make_gaussfuncs_s(exponents, coefficients, pos=[0, 0, 0]):\n",
    "    s_poly = [0, 0, 0]\n",
    "    s_gaussFuncs = []\n",
    "    for i in range(len(exponents)):\n",
    "        s_gaussFuncs.append(vp.GaussFunc(exponents[i], coefficients[0][i], pos, s_poly))\n",
    "    return s_gaussFuncs\n",
    "\n",
    "def make_gaussfuncs_p(exponents, coefficients, pos=[0, 0, 0]):\n",
    "    p_poly = [[1, 0, 0], [0, 1, 0], [0, 0, 1]]\n",
    "    p_gaussFuncs = []\n",
    "    for i in range(len(exponents)):\n",
    "        p_gaussFuncs.append(vp.GaussFunc(exponents[i], coefficients[1][i], pos, p_poly[0]))\n",
    "        p_gaussFuncs.append(vp.GaussFunc(exponents[i], coefficients[1][i], pos, p_poly[1]))\n",
    "        p_gaussFuncs.append(vp.GaussFunc(exponents[i], coefficients[1][i], pos, p_poly[2]))\n",
    "    return p_gaussFuncs\n",
    "\n",
    "def make_gaussfuncs_d(exponents, coefficients, pos=[0, 0, 0]):\n",
    "    d_poly = [[2, 0, 0], [0, 2, 0], [0, 0, 2], [1, 1, 0], [1, 0, 1], [0, 1, 1]]\n",
    "    d_gaussFuncs = []\n",
    "    for i in range(len(exponents)):\n",
    "        d_gaussFuncs.append(vp.GaussFunc(exponents[i], coefficients[2][i], pos, d_poly[0]))\n",
    "        d_gaussFuncs.append(vp.GaussFunc(exponents[i], coefficients[2][i], pos, d_poly[1]))\n",
    "        d_gaussFuncs.append(vp.GaussFunc(exponents[i], coefficients[2][i], pos, d_poly[2]))\n",
    "        d_gaussFuncs.append(vp.GaussFunc(exponents[i], coefficients[2][i], pos, d_poly[3]))\n",
    "        d_gaussFuncs.append(vp.GaussFunc(exponents[i], coefficients[2][i], pos, d_poly[4]))\n",
    "        d_gaussFuncs.append(vp.GaussFunc(exponents[i], coefficients[2][i], pos, d_poly[5]))\n",
    "    return d_gaussFuncs\n"
   ]
  },
  {
   "cell_type": "code",
   "execution_count": 110,
   "metadata": {},
   "outputs": [
    {
     "data": {
      "text/plain": [
       "[{'function_type': 'gto',\n",
       "  'region': 'valence',\n",
       "  'angular_momentum': [0],\n",
       "  'exponents': ['0.5157240000E+03', '0.7765380000E+02', '0.1681360000E+02'],\n",
       "  'coefficients': [['0.5814303044E-01',\n",
       "    '0.3479511822E+00',\n",
       "    '0.7107143721E+00']]},\n",
       " {'function_type': 'gto',\n",
       "  'region': 'valence',\n",
       "  'angular_momentum': [0, 1],\n",
       "  'exponents': ['0.1248300000E+02', '0.2664510000E+01'],\n",
       "  'coefficients': [['-0.4099223208E+00', '0.1224310958E+01'],\n",
       "   ['0.2474599836E+00', '0.8517429435E+00']]},\n",
       " {'function_type': 'gto',\n",
       "  'region': 'valence',\n",
       "  'angular_momentum': [0, 1],\n",
       "  'exponents': ['0.6062500000E+00'],\n",
       "  'coefficients': [['0.1000000000E+01'], ['0.1000000000E+01']]}]"
      ]
     },
     "execution_count": 110,
     "metadata": {},
     "output_type": "execute_result"
    }
   ],
   "source": [
    "neon_basis[\"electron_shells\"]"
   ]
  },
  {
   "cell_type": "code",
   "execution_count": 114,
   "metadata": {},
   "outputs": [],
   "source": [
    "def basis_to_list_of_gaussFuncs(basis):\n",
    "    from vampyr import vampyr3d as vp\n",
    "    list_of_gaussFuncs = []\n",
    "    for i in range(len(basis[\"electron_shells\"])):\n",
    "        angular_momentum = neon_basis[\"electron_shells\"][i][\"angular_momentum\"]\n",
    "        angular_momentum = [int(a) for a in angular_momentum]\n",
    "        exponents = neon_basis[\"electron_shells\"][i][\"exponents\"]\n",
    "        exponents = [float(a) for a in exponents]\n",
    "        coefficients = neon_basis[\"electron_shells\"][i][\"coefficients\"]\n",
    "        coefficients = [[float(a) for a in orb_type] for orb_type in coefficients]\n",
    "        for mom in angular_momentum:\n",
    "            if mom == 0:\n",
    "                list_of_gaussFuncs.append(make_gaussfuncs_s(exponents, coefficients, pos=[0, 0, 0]))\n",
    "            if mom == 1:\n",
    "                list_of_gaussFuncs.append(make_gaussfuncs_p(exponents, coefficients, pos=[0, 0, 0]))\n",
    "            if mom == 2:\n",
    "                list_of_gaussFuncs.append(make_gaussfuncs_d(exponents, coefficients, pos=[0, 0, 0]))\n",
    "        \n",
    "    return list_of_gaussFuncs"
   ]
  },
  {
   "cell_type": "code",
   "execution_count": 115,
   "metadata": {},
   "outputs": [
    {
     "name": "stdout",
     "output_type": "stream",
     "text": [
      "0\n",
      "1\n",
      "2\n"
     ]
    }
   ],
   "source": [
    "basis_list = basis_to_list_of_gaussFuncs(neon_basis)"
   ]
  },
  {
   "cell_type": "code",
   "execution_count": 119,
   "metadata": {},
   "outputs": [
    {
     "data": {
      "text/plain": [
       "{'function_type': 'gto',\n",
       " 'region': 'valence',\n",
       " 'angular_momentum': [0, 1],\n",
       " 'exponents': ['0.1248300000E+02', '0.2664510000E+01'],\n",
       " 'coefficients': [['-0.4099223208E+00', '0.1224310958E+01'],\n",
       "  ['0.2474599836E+00', '0.8517429435E+00']]}"
      ]
     },
     "execution_count": 119,
     "metadata": {},
     "output_type": "execute_result"
    }
   ],
   "source": [
    "neon_basis[\"electron_shells\"][1]"
   ]
  },
  {
   "cell_type": "code",
   "execution_count": 116,
   "metadata": {},
   "outputs": [
    {
     "name": "stdout",
     "output_type": "stream",
     "text": [
      "Coef    : 0.058143\n",
      "Exp     : 515.724\n",
      "Pos     : 0 0 0 \n",
      "Pow     : 0 0 0 \n",
      "\n",
      "Coef    : 0.347951\n",
      "Exp     : 77.6538\n",
      "Pos     : 0 0 0 \n",
      "Pow     : 0 0 0 \n",
      "\n",
      "Coef    : 0.710714\n",
      "Exp     : 16.8136\n",
      "Pos     : 0 0 0 \n",
      "Pow     : 0 0 0 \n",
      "\n",
      "Coef    : -0.409922\n",
      "Exp     : 12.483\n",
      "Pos     : 0 0 0 \n",
      "Pow     : 0 0 0 \n",
      "\n",
      "Coef    : 1.22431\n",
      "Exp     : 2.66451\n",
      "Pos     : 0 0 0 \n",
      "Pow     : 0 0 0 \n",
      "\n",
      "Coef    : 0.24746\n",
      "Exp     : 12.483\n",
      "Pos     : 0 0 0 \n",
      "Pow     : 1 0 0 \n",
      "\n",
      "Coef    : 0.24746\n",
      "Exp     : 12.483\n",
      "Pos     : 0 0 0 \n",
      "Pow     : 0 1 0 \n",
      "\n",
      "Coef    : 0.24746\n",
      "Exp     : 12.483\n",
      "Pos     : 0 0 0 \n",
      "Pow     : 0 0 1 \n",
      "\n",
      "Coef    : 0.851743\n",
      "Exp     : 2.66451\n",
      "Pos     : 0 0 0 \n",
      "Pow     : 1 0 0 \n",
      "\n",
      "Coef    : 0.851743\n",
      "Exp     : 2.66451\n",
      "Pos     : 0 0 0 \n",
      "Pow     : 0 1 0 \n",
      "\n",
      "Coef    : 0.851743\n",
      "Exp     : 2.66451\n",
      "Pos     : 0 0 0 \n",
      "Pow     : 0 0 1 \n",
      "\n",
      "Coef    : 1\n",
      "Exp     : 0.60625\n",
      "Pos     : 0 0 0 \n",
      "Pow     : 0 0 0 \n",
      "\n",
      "Coef    : 1\n",
      "Exp     : 0.60625\n",
      "Pos     : 0 0 0 \n",
      "Pow     : 1 0 0 \n",
      "\n",
      "Coef    : 1\n",
      "Exp     : 0.60625\n",
      "Pos     : 0 0 0 \n",
      "Pow     : 0 1 0 \n",
      "\n",
      "Coef    : 1\n",
      "Exp     : 0.60625\n",
      "Pos     : 0 0 0 \n",
      "Pow     : 0 0 1 \n",
      "\n"
     ]
    }
   ],
   "source": [
    "for l in basis_list:\n",
    "    for g in l:\n",
    "        print(g)"
   ]
  },
  {
   "cell_type": "code",
   "execution_count": null,
   "metadata": {},
   "outputs": [],
   "source": []
  }
 ],
 "metadata": {
  "kernelspec": {
   "display_name": "documentation",
   "language": "python",
   "name": "python3"
  },
  "language_info": {
   "codemirror_mode": {
    "name": "ipython",
    "version": 3
   },
   "file_extension": ".py",
   "mimetype": "text/x-python",
   "name": "python",
   "nbconvert_exporter": "python",
   "pygments_lexer": "ipython3",
   "version": "3.10.8"
  },
  "orig_nbformat": 4,
  "vscode": {
   "interpreter": {
    "hash": "a875265825dca88dc0cdca05b35ae15709f7b78b2bf941fac513dcdaf1078523"
   }
  }
 },
 "nbformat": 4,
 "nbformat_minor": 2
}
